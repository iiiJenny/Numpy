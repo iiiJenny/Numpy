{
 "cells": [
  {
   "cell_type": "markdown",
   "metadata": {},
   "source": [
    "### 创建数组"
   ]
  },
  {
   "cell_type": "code",
   "execution_count": 8,
   "metadata": {
    "collapsed": true
   },
   "outputs": [
    {
     "data": {
      "text/plain": [
       "dtype('float64')"
      ]
     },
     "execution_count": 8,
     "metadata": {},
     "output_type": "execute_result"
    }
   ],
   "source": [
    "import numpy as np\n",
    "\n",
    "# 创建数组 -> np.array\n",
    "data1 = [6,7.5,8,0,1]\n",
    "arr1 = np.array(data1)\n",
    "arr1   # array([6. , 7.5, 8. , 0. , 1. ])\n",
    "arr1.dtype   #dtype('float64')\n",
    "\n",
    "data2 = [[1,2,3,4],[5,6,7,8]]\n",
    "arr2 = np.array(data2)\n",
    "arr2.shape   #(2,4)  2*4\n",
    "arr2.ndim  #n-dimensions  2\n",
    "arr2.dtype  #dtype('int64')"
   ]
  },
  {
   "cell_type": "markdown",
   "metadata": {},
   "source": [
    "### ndarray 数据类型"
   ]
  },
  {
   "cell_type": "code",
   "execution_count": 24,
   "metadata": {
    "collapsed": true
   },
   "outputs": [
    {
     "data": {
      "text/plain": [
       "dtype('int64')"
      ]
     },
     "execution_count": 24,
     "metadata": {},
     "output_type": "execute_result"
    }
   ],
   "source": [
    "#np.zeros/ones/empty/arange\n",
    "np.zeros(10)   #array([0., 0., 0., 0., 0., 0., 0., 0., 0., 0.])\n",
    "np.zeros((3,4))   # 3*4 ->0\n",
    "np.ones(10)\n",
    "np.ones((3,4))\n",
    "\n",
    "np.empty((2,3))   #2 lists，3 elements (list-list)\n",
    "np.empty((2,3,4))   #2 outer-list, 3 inner-list, 4 elements  (list-list-list)\n",
    "# 输出非0值， 初始垃圾值\n",
    "\n",
    "np.arange(10).dtype  # array-range==range(10)   ->array([0, 1, 2, 3, 4, 5, 6, 7, 8, 9]) -> dtype('int64')\n",
    "\n",
    "\n",
    "# 指定数据类型 dtype=np.xxxtype\n",
    "arr1 = np.array([1,2,3], dtype=np.float64)\n",
    "arr2 = np.array([1,2,3], dtype=np.int32)\n",
    "arr1.dtype  # dtype('float64')\n",
    "arr2.dtype  # dtype('int32')\n",
    "\n",
    "#转换dtype ->.astype(np.xxxtype)  ->调用astye会创建一个新的数组\n",
    "arr = np.array([1,2,3,4,5])\n",
    "arr.dtype  # dtype('int64')\n",
    "\n",
    "new_arr = arr.astype(np.float64)\n",
    "new_arr = arr.astype(np.string_)   # dtype('S21')\n",
    "new_arr.dtype  #dtype('float64')\n",
    "# ps: 如果将浮点数转换成整数，则小数部分会被截断\n",
    "\n",
    "int_array = np.arange(10)\n",
    "calibers = np.array([.22, .270, .357, .380, .44, .50], dtype=np.float64)\n",
    "int_array.astype(calibers.dtype)  #float64\n"
   ]
  },
  {
   "cell_type": "markdown",
   "metadata": {},
   "source": [
    "### 数组、标量之间的运算"
   ]
  },
  {
   "cell_type": "code",
   "execution_count": 44,
   "metadata": {
    "collapsed": true
   },
   "outputs": [
    {
     "data": {
      "text/plain": [
       "array([[1.        , 1.41421356, 1.73205081],\n",
       "       [2.        , 2.23606798, 2.44948974]])"
      ]
     },
     "execution_count": 44,
     "metadata": {},
     "output_type": "execute_result"
    }
   ],
   "source": [
    "arr = np.array([[1.,2.,3.],[4.,5.,6.]])\n",
    "arr * arr  # array([[ 1.,  4.,  9.],[16., 25., 36.]])\n",
    "arr - arr\n",
    "1/arr\n",
    "arr**0.5"
   ]
  },
  {
   "cell_type": "markdown",
   "metadata": {},
   "source": [
    "### 索引、切片"
   ]
  },
  {
   "cell_type": "code",
   "execution_count": 60,
   "metadata": {
    "collapsed": true
   },
   "outputs": [
    {
     "data": {
      "text/plain": [
       "array([[1],\n",
       "       [4],\n",
       "       [7]])"
      ]
     },
     "execution_count": 60,
     "metadata": {},
     "output_type": "execute_result"
    }
   ],
   "source": [
    "arr = np.arange(10)   # array([0, 1, 2, 3, 4, 5, 6, 7, 8, 9])\n",
    "arr[5] # 5\n",
    "arr[5:8] # array([5, 6, 7])\n",
    "#赋值\n",
    "arr[5:8] = 12  #所有的值都赋值为12\n",
    "arr    # array([ 0,  1,  2,  3,  4, 12, 12, 12,  8,  9])\n",
    "\n",
    "\n",
    "# 注意：复制不能简单的复制，而应该 arr_slice = arr[5:8].copy()\n",
    "arr_slice = arr[5:8]   # array([12, 12, 12])\n",
    "arr_slice[1] = 12345\n",
    "arr   # array([    0,     1,     2,     3,     4,    12, 12345,    12,     8,    9])\n",
    "\n",
    "#二维数组， index[a,b]-> a: 横坐标 ；b:纵坐标\n",
    "arr2d = np.array([[1,2,3],[4,5,6],[7,8,9]])\n",
    "arr2d[2]   # array([7, 8, 9])\n",
    "arr2d[0][2]  # 3  ->  arr2d[0][2] == arr2d[0,2]\n",
    "\n",
    "# 多维数组 index[0]表示最外面list里的第一个整体元素（也可能是多维数组）\n",
    "\n",
    "#二维切片索引\n",
    "arr2d[:2]    # array([[1, 2, 3],[4, 5, 6]])\n",
    "arr2d[:2, 1:]  # array([[2, 3],[5, 6]])\n",
    "arr2d[1, :2]  # array([4, 5])\n",
    "arr2d[:, :1]  # array([[1],[4],[7]])"
   ]
  },
  {
   "cell_type": "markdown",
   "metadata": {},
   "source": [
    "### 布尔型索引"
   ]
  },
  {
   "cell_type": "code",
   "execution_count": 78,
   "metadata": {
    "collapsed": true
   },
   "outputs": [
    {
     "data": {
      "text/plain": [
       "array([[7.        , 7.        , 7.        , 7.        ],\n",
       "       [0.        , 1.2529456 , 0.26177586, 0.97832345],\n",
       "       [7.        , 7.        , 7.        , 7.        ],\n",
       "       [7.        , 7.        , 7.        , 7.        ],\n",
       "       [7.        , 7.        , 7.        , 7.        ],\n",
       "       [0.        , 0.        , 0.83740787, 0.35347514],\n",
       "       [0.61701688, 0.4259511 , 0.        , 0.        ]])"
      ]
     },
     "execution_count": 78,
     "metadata": {},
     "output_type": "execute_result"
    }
   ],
   "source": [
    "from numpy.random import randn\n",
    "# 或者 np.random.randn()\n",
    "\n",
    "names = np.array(['Bob','joe','will','Bob','will','joe','joe'])\n",
    "data = randn(7,4) # 形成7*4的数组  (索引？)\n",
    "data\n",
    "names == 'Bob'  # array([ True, False, False,  True, False, False, False])\n",
    "data[names == 'Bob']\n",
    "data[names == 'Bob', 2:]\n",
    "data[~(names == 'Bob')]  # '~'->否定; 或者用names != 'Bob'\n",
    "# 和&，或者｜（不能用and／or）\n",
    "\n",
    "# 设置值 \n",
    "data[data < 0] = 0\n",
    "data\n",
    "data[names != 'joe'] = 7\n",
    "data\n"
   ]
  },
  {
   "cell_type": "markdown",
   "metadata": {},
   "source": [
    "###  花式索引 （利用整数数组进行索引）-> 与索引不同，总是把数据复制到新数组中"
   ]
  },
  {
   "cell_type": "code",
   "execution_count": 110,
   "metadata": {},
   "outputs": [
    {
     "data": {
      "text/plain": [
       "array([[ 4,  7,  5,  6],\n",
       "       [20, 23, 21, 22],\n",
       "       [28, 31, 29, 30],\n",
       "       [ 8, 11,  9, 10]])"
      ]
     },
     "execution_count": 110,
     "metadata": {},
     "output_type": "execute_result"
    }
   ],
   "source": [
    "arr = np.empty((8, 4))  # 8*4的数组\n",
    "for i in range(8):\n",
    "    arr[i] = i\n",
    "arr[[4,3,0,6]] # 指定特定的顺序\n",
    "arr[[-3,-5,-7]]\n",
    "\n",
    "# .reshape((a,b))\n",
    "arr = np.arange(32).reshape((8,4))  # 形成8*4的数组，由0～31组成\n",
    "arr[[1,5,7,2],[0,3,1,2]]  # 选取特定行，特定列 -> array([ 4, 23, 29, 10])\n",
    "arr[[1,5,7,2]] [:,[0,3,1,2]]  # 选取特定行， 列进行换位 -> 矩阵\n",
    "arr[np.ix_([1,5,7,2],[0,3,1,2])]  # np.ix_函数，结果同上->矩阵"
   ]
  },
  {
   "cell_type": "markdown",
   "metadata": {},
   "source": [
    "### 数轴转置和轴对换"
   ]
  },
  {
   "cell_type": "code",
   "execution_count": 31,
   "metadata": {},
   "outputs": [
    {
     "data": {
      "text/plain": [
       "array([[[ 0,  5],\n",
       "        [ 1,  6],\n",
       "        [ 2,  7],\n",
       "        [ 3,  8],\n",
       "        [ 4,  9]],\n",
       "\n",
       "       [[10, 15],\n",
       "        [11, 16],\n",
       "        [12, 17],\n",
       "        [13, 18],\n",
       "        [14, 19]],\n",
       "\n",
       "       [[20, 25],\n",
       "        [21, 26],\n",
       "        [22, 27],\n",
       "        [23, 28],\n",
       "        [24, 29]]])"
      ]
     },
     "execution_count": 31,
     "metadata": {},
     "output_type": "execute_result"
    }
   ],
   "source": [
    "import numpy as np\n",
    "# .T\n",
    "arr = np.arange(15).reshape((3,5))\n",
    "arr.T\n",
    "\n",
    "# 求矩阵内积  np.dot\n",
    "arr = np.random.randn(6,3)\n",
    "np.dot(arr.T, arr)  # (3,3)型\n",
    "\n",
    "# transpose() / swapaxes()\n",
    "arr = np.arange(30).reshape(3, 2, 5)\n",
    "arr.shape  #(3, 2, 5)\n",
    "\n",
    "np.transpose(arr, (0, 2, 1))  # 调换arr.shape的顺序 -> (3,5,2), 内部元素也按照这个规律改变（a,b,c）\n",
    "arr.swapaxes(1,2) # index［1］与index[2]轴调换 ->(3, 5, 2)\n"
   ]
  },
  {
   "cell_type": "markdown",
   "metadata": {},
   "source": [
    "### 利用数据进行数据处理"
   ]
  },
  {
   "cell_type": "code",
   "execution_count": null,
   "metadata": {},
   "outputs": [],
   "source": [
    "# eg -> np.meshgrid()生成以某点为中心的指定半径内的分布情况 / np.where(条件，T的值，F的值) 三元表达式\n",
    "# matplotlib.imshow()\n",
    "# np.sort()\n",
    "# np.unique()\n",
    "\n"
   ]
  },
  {
   "cell_type": "markdown",
   "metadata": {},
   "source": [
    "### 将数组以二进制格式保存到磁盘"
   ]
  },
  {
   "cell_type": "code",
   "execution_count": null,
   "metadata": {},
   "outputs": [],
   "source": [
    "# np.save/ np.load\n",
    "\n",
    "\n"
   ]
  }
 ],
 "metadata": {
  "kernelspec": {
   "display_name": "Python 3",
   "language": "python",
   "name": "python3"
  },
  "language_info": {
   "codemirror_mode": {
    "name": "ipython",
    "version": 3
   },
   "file_extension": ".py",
   "mimetype": "text/x-python",
   "name": "python",
   "nbconvert_exporter": "python",
   "pygments_lexer": "ipython3",
   "version": "3.6.5"
  }
 },
 "nbformat": 4,
 "nbformat_minor": 2
}
